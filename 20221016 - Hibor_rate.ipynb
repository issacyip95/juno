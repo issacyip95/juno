{
 "cells": [
  {
   "cell_type": "code",
   "execution_count": null,
   "metadata": {},
   "outputs": [],
   "source": [
    "pip install pandas"
   ]
  },
  {
   "cell_type": "markdown",
   "metadata": {
    "id": "mGu0sNO17HOo"
   },
   "source": [
    "The following code is to obtain the Hibor data from two sources, namely:\n",
    "1. HKMA\n",
    "2. Hang Seng Bank\n"
   ]
  },
  {
   "cell_type": "code",
   "execution_count": null,
   "metadata": {
    "executionInfo": {
     "elapsed": 46136,
     "status": "ok",
     "timestamp": 1657637838083,
     "user": {
      "displayName": "Issac Yip",
      "userId": "13391157700346455401"
     },
     "user_tz": -480
    },
    "id": "Wn9o8ERV7_Ix"
   },
   "outputs": [],
   "source": [
    "url1=\"https://api.hkma.gov.hk/public/market-data-and-statistics/monthly-statistical-bulletin/er-ir/hk-interbank-ir-daily?segment=hibor.fixing\"\n",
    "url2=\"https://rbwm-api.hsbc.com.hk/pws-hk-hase-rates-papi-prod-proxy/v1/historical-onemonth-hibor?year=##YYYY##&month=##MM##\"\n",
    "\n",
    "date = []\n",
    "hibor = []\n",
    "'''\n",
    "#Previous Data\n",
    "import urllib.request as req, json\n",
    "res = req.urlopen(url1)\n",
    "rec = json.loads(res.read())\n",
    "rec = rec['result']['records']\n",
    "for r in rec:\n",
    "  date.append(r['end_of_day']) \n",
    "  hibor.append(r['ir_1m'])\n",
    "'''\n",
    "#current month\n",
    "import datetime\n",
    "import urllib.request as req, json\n",
    "year = datetime.datetime.now().year\n",
    "month = datetime.datetime.now().month\n",
    "for y in range(2018,2022+1):\n",
    "    for m in range(1,12+1):\n",
    "        if not (year==y and month<m):\n",
    "            url2_u = url2.replace('##YYYY##',str(y))\n",
    "            url2_u = url2_u.replace('##MM##',str(m).zfill(2))\n",
    "            res = req.urlopen(url2_u)\n",
    "            rec = json.loads(res.read())\n",
    "            rec = rec['historicalOneMonthHibor']\n",
    "            for r in rec:\n",
    "                date.append(r['rateDate'])\n",
    "                hibor.append(r['haseHibor'])\n",
    "\n",
    "import pandas as pd\n",
    "df = {'Hibor':hibor,'Date':date}\n",
    "df = pd.DataFrame(df)\n",
    "df['Date']=pd.to_datetime(df['Date'])\n",
    "df['Hibor']=pd.to_numeric(df['Hibor'])\n",
    "df = df.sort_values('Date',ignore_index=True)\n",
    "#df.to_csv(\"data.csv\")\n",
    "#from google.colab import files\n",
    "#files.download(\"data.csv\")"
   ]
  },
  {
   "cell_type": "code",
   "execution_count": null,
   "metadata": {},
   "outputs": [],
   "source": [
    "pip install backtesting"
   ]
  },
  {
   "cell_type": "code",
   "execution_count": null,
   "metadata": {
    "colab": {
     "base_uri": "https://localhost:8080/"
    },
    "executionInfo": {
     "elapsed": 434,
     "status": "ok",
     "timestamp": 1657517001388,
     "user": {
      "displayName": "Issac Yip",
      "userId": "13391157700346455401"
     },
     "user_tz": -480
    },
    "id": "92im9iwsJaXt",
    "outputId": "a465fddb-3025-4104-d0ee-366391a81292"
   },
   "outputs": [],
   "source": [
    "print(df.to_string())"
   ]
  },
  {
   "cell_type": "code",
   "execution_count": null,
   "metadata": {
    "executionInfo": {
     "elapsed": 2925,
     "status": "ok",
     "timestamp": 1657638479109,
     "user": {
      "displayName": "Issac Yip",
      "userId": "13391157700346455401"
     },
     "user_tz": -480
    },
    "id": "25BD1jzx-hoT"
   },
   "outputs": [],
   "source": [
    "url3='https://api.hkma.gov.hk/public/market-data-and-statistics/daily-monetary-statistics/daily-figures-monetary-base?pagesize=1000'\n",
    "res = req.urlopen(url3)\n",
    "rec = json.loads(res.read())\n",
    "rec = rec['result']['records']\n",
    "eod = []\n",
    "balance = []\n",
    "for r in rec:\n",
    "  eod.append(r['end_of_date'])\n",
    "  balance.append(r['aggr_balance_af_disc_win'])\n",
    "eod, balance\n",
    "df1 = {'Balance':balance,'Date':eod}\n",
    "df1 = pd.DataFrame(df1)\n",
    "df1['Date']=pd.to_datetime(df1['Date'])\n",
    "df1['Balance']=pd.to_numeric(df1['Balance'])\n",
    "df1 = df1.sort_values('Date',ignore_index=True)"
   ]
  },
  {
   "cell_type": "code",
   "execution_count": null,
   "metadata": {
    "colab": {
     "base_uri": "https://localhost:8080/",
     "height": 265
    },
    "executionInfo": {
     "elapsed": 643,
     "status": "ok",
     "timestamp": 1657638482763,
     "user": {
      "displayName": "Issac Yip",
      "userId": "13391157700346455401"
     },
     "user_tz": -480
    },
    "id": "JRqREiWE880x",
    "outputId": "9fc83a3a-b686-46bf-8ab0-fe0a9aef21ba"
   },
   "outputs": [],
   "source": [
    "import numpy as np\n",
    "import matplotlib.pyplot as plt\n",
    "fig,ax = plt.subplots()\n",
    "\n",
    "ax.plot(df['Date'],df['Hibor'],label='Hibor',color='black')\n",
    "ax1 = ax.twinx()\n",
    "ax1.plot(df1['Date'],df1['Balance'],label='Balance',color='orange')\n",
    "\n",
    "import matplotlib.dates as mdates\n",
    "ax1.xaxis.set_major_formatter(mdates.DateFormatter('%b-%y'))"
   ]
  },
  {
   "cell_type": "markdown",
   "metadata": {
    "id": "2VSKW-BbZRJ3"
   },
   "source": [
    "# New section"
   ]
  }
 ],
 "metadata": {
  "colab": {
   "name": "20220707 - Hibor_rate-1.ipynb",
   "provenance": []
  },
  "kernelspec": {
   "display_name": "Python 3 (ipykernel)",
   "language": "python",
   "name": "python3"
  },
  "language_info": {
   "codemirror_mode": {
    "name": "ipython",
    "version": 3
   },
   "file_extension": ".py",
   "mimetype": "text/x-python",
   "name": "python",
   "nbconvert_exporter": "python",
   "pygments_lexer": "ipython3",
   "version": "3.7.12"
  }
 },
 "nbformat": 4,
 "nbformat_minor": 1
}
